{
  "nbformat": 4,
  "nbformat_minor": 0,
  "metadata": {
    "colab": {
      "name": "A3_Q1.ipynb",
      "provenance": [],
      "collapsed_sections": [],
      "authorship_tag": "ABX9TyMamd6vpzb/9o4NjMydPVI/",
      "include_colab_link": true
    },
    "kernelspec": {
      "name": "python3",
      "display_name": "Python 3"
    }
  },
  "cells": [
    {
      "cell_type": "markdown",
      "metadata": {
        "id": "view-in-github",
        "colab_type": "text"
      },
      "source": [
        "<a href=\"https://colab.research.google.com/github/carloidangelo/ECSE-415/blob/main/A3_Q1.ipynb\" target=\"_parent\"><img src=\"https://colab.research.google.com/assets/colab-badge.svg\" alt=\"Open In Colab\"/></a>"
      ]
    },
    {
      "cell_type": "code",
      "metadata": {
        "id": "9yuvK_uZK9o6",
        "colab": {
          "base_uri": "https://localhost:8080/"
        },
        "outputId": "ebda5d0a-9845-4ee9-ecf9-24e486352963"
      },
      "source": [
        "from google.colab import drive\n",
        "drive.mount('/content/drive')"
      ],
      "execution_count": null,
      "outputs": [
        {
          "output_type": "stream",
          "text": [
            "Mounted at /content/drive\n"
          ],
          "name": "stdout"
        }
      ]
    },
    {
      "cell_type": "code",
      "metadata": {
        "id": "jpGpeFT2Qkmi"
      },
      "source": [
        "from sklearn import svm\n",
        "from sklearn.ensemble import RandomForestClassifier\n",
        "import cv2\n",
        "import numpy as np\n",
        "\n",
        "%matplotlib inline\n",
        "\n",
        "path = '/content/drive/My Drive/ECSE415/Assignments/A3/'"
      ],
      "execution_count": null,
      "outputs": []
    },
    {
      "cell_type": "markdown",
      "metadata": {
        "id": "w3QPHCpBRFfM"
      },
      "source": [
        "##Image Classification using RF and SVM"
      ]
    },
    {
      "cell_type": "code",
      "metadata": {
        "id": "pb8I7lFrxTK5"
      },
      "source": [
        "# function takes in a list of 2D images as input\n",
        "# function delivers list of HoG features as output.\n",
        "def findHOG(img_list):\n",
        "  img_size = (64, 64) # h x w in pixels\n",
        "  cell_size = (8, 8)  # h x w in pixels\n",
        "  block_size = (4, 4)  # h x w in cells\n",
        "  nbins = 4  # number of orientation bins\n",
        "\n",
        "  # create HoG Object\n",
        "  # winSize is the size of the image cropped to multiple of the cell size\n",
        "  # all arguments should be given in terms of number of pixels\n",
        "  hog = cv2.HOGDescriptor(_winSize=(img_size[1] // cell_size[1] * cell_size[1],\n",
        "                                    img_size[0] // cell_size[0] * cell_size[0]),\n",
        "                          _blockSize=(block_size[1] * cell_size[1],\n",
        "                                      block_size[0] * cell_size[0]),\n",
        "                          _blockStride=(cell_size[1], cell_size[0]),\n",
        "                          _cellSize=(cell_size[1], cell_size[0]),\n",
        "                          _nbins=nbins)\n",
        "  features = []\n",
        "  for i in range(np.array(img_list).shape[0]):\n",
        "    features.append(hog.compute(img_list[i].astype(np.uint8)).reshape(1, -1))\n",
        "  features = np.vstack(features)\n",
        "  return features "
      ],
      "execution_count": null,
      "outputs": []
    },
    {
      "cell_type": "code",
      "metadata": {
        "id": "EhZmb-Ouyrkc"
      },
      "source": [
        "# function calculates classification accuracy as a percentage\n",
        "def getAccuracy(list1, list2, listSize):\n",
        "  counter = 0\n",
        "  for i in range(listSize):\n",
        "    if list1[i] == list2[i]:\n",
        "      counter = counter + 1\n",
        "  acc = (counter/listSize) * 100\n",
        "  return acc"
      ],
      "execution_count": null,
      "outputs": []
    },
    {
      "cell_type": "code",
      "metadata": {
        "id": "d6u6A-JqRXyb",
        "colab": {
          "base_uri": "https://localhost:8080/"
        },
        "outputId": "f356788f-caa0-4b55-8860-98e3a05e5887"
      },
      "source": [
        "image_size = (128,128) # all images of size 128×128\n",
        "image_size_new = (64,64) # must resize all images to this size\n",
        "train_image_amount = 1556\n",
        "test_image_amount = 90\n",
        "\n",
        "train_images = np.load(path + 'flower_subset.npz')['train_images']\n",
        "train_labels = np.load(path + 'flower_subset.npz')['train_labels']\n",
        "test_images = np.load(path + 'flower_subset.npz')['test_images']\n",
        "test_labels = np.load(path + 'flower_subset.npz')['test_labels']\n",
        "\n",
        "train_images_resized = []\n",
        "test_images_resized = []\n",
        "\n",
        "# resize training images to 64 × 64\n",
        "for i in range(train_image_amount):\n",
        "  train_img_resized = cv2.resize(train_images[i], image_size_new, 0, 0, cv2.INTER_AREA)\n",
        "  # normalize images [0,255]\n",
        "  cv2.normalize(train_img_resized, train_img_resized, 0, 255, cv2.NORM_MINMAX)\n",
        "  train_images_resized.append(train_img_resized)\n",
        "\n",
        "# resize test images to 64 × 64\n",
        "for j in range(test_image_amount):\n",
        "  test_img_resized = cv2.resize(test_images[j], image_size_new, 0, 0, cv2.INTER_AREA)\n",
        "  # normalize images [0,255]\n",
        "  cv2.normalize(test_img_resized, test_img_resized, 0, 255, cv2.NORM_MINMAX)\n",
        "  test_images_resized.append(test_img_resized)\n",
        "\n",
        "# find HoG features of images\n",
        "hog_train = findHOG(train_images_resized)\n",
        "hog_test = findHOG(test_images_resized)\n",
        "\n",
        "# SVM\n",
        "# create non-linear SVM classifier with RBF kernel\n",
        "# gamma='auto', C=1\n",
        "clf_A_1 = svm.SVC(kernel = 'rbf', gamma='auto', C=1., random_state = 15)\n",
        "# gamma='scale', C=10\n",
        "clf_S_10 = svm.SVC(kernel = 'rbf', gamma='scale', C=10., random_state = 15)\n",
        "\n",
        "# training\n",
        "clf_A_1.fit(hog_train, train_labels)\n",
        "clf_S_10.fit(hog_train, train_labels)\n",
        "\n",
        "# predict labels of test images\n",
        "predicted_labels_A_1 = clf_A_1.predict(hog_test)\n",
        "predicted_labels_S_10 = clf_S_10.predict(hog_test)\n",
        "\n",
        "# calculate classification error\n",
        "acc_A_1 = getAccuracy(predicted_labels_A_1, test_labels, test_image_amount)\n",
        "print(\"Hyperparameters: gamma='auto', C=1\")\n",
        "print(\"Classification Accuracy: \" + str(acc_A_1) + \" %\")\n",
        "acc_S_10 = getAccuracy(predicted_labels_S_10, test_labels, test_image_amount)\n",
        "print(\"Hyperparameters: gamma='scale', C=10\")\n",
        "print(\"Classification Accuracy: \" + str(acc_S_10) + \" %\")"
      ],
      "execution_count": null,
      "outputs": [
        {
          "output_type": "stream",
          "text": [
            "Hyperparameters: gamma='auto', C=1\n",
            "Classification Accuracy: 11.11111111111111 %\n",
            "Hyperparameters: gamma='scale', C=10\n",
            "Classification Accuracy: 63.33333333333333 %\n"
          ],
          "name": "stdout"
        }
      ]
    },
    {
      "cell_type": "code",
      "metadata": {
        "id": "vQN-8Pkkv32x",
        "colab": {
          "base_uri": "https://localhost:8080/"
        },
        "outputId": "a7f21f6f-760c-49e1-d2af-8e2b791f081a"
      },
      "source": [
        "# RF\n",
        "# create RF classifier\n",
        "# n_estimators=10, max_depth=5, criterion='entropy'\n",
        "clf_10_5 = RandomForestClassifier(n_estimators=10, max_depth=5, criterion='entropy', random_state = 15)\n",
        "# n_estimators=50, max_depth=10, criterion='entropy'\n",
        "clf_50_10 = RandomForestClassifier(n_estimators=50, max_depth=10, criterion='entropy', random_state = 15)\n",
        "\n",
        "# training\n",
        "clf_10_5.fit(hog_train, train_labels)\n",
        "clf_50_10.fit(hog_train, train_labels)\n",
        "\n",
        "# predict labels of test images\n",
        "predicted_labels_10_5 = clf_10_5.predict(hog_test)\n",
        "predicted_labels_50_10 = clf_50_10.predict(hog_test)\n",
        "\n",
        "# calculate classification error\n",
        "acc_10_5 = getAccuracy(predicted_labels_10_5, test_labels, test_image_amount)\n",
        "print(\"Hyperparameters: n_estimators=10, max_depth=5\")\n",
        "print(\"Classification Accuracy: \" + str(acc_10_5) + \" %\")\n",
        "acc_50_10 = getAccuracy(predicted_labels_50_10, test_labels, test_image_amount)\n",
        "print(\"Hyperparameters: n_estimators=50, max_depth=10\")\n",
        "print(\"Classification Accuracy: \" + str(acc_50_10) + \" %\")"
      ],
      "execution_count": null,
      "outputs": [
        {
          "output_type": "stream",
          "text": [
            "Hyperparameters: n_estimators=10, max_depth=5\n",
            "Classification Accuracy: 33.33333333333333 %\n",
            "Hyperparameters: n_estimators=50, max_depth=10\n",
            "Classification Accuracy: 53.333333333333336 %\n"
          ],
          "name": "stdout"
        }
      ]
    },
    {
      "cell_type": "markdown",
      "metadata": {
        "id": "fUpW5Y0Jfuhq"
      },
      "source": [
        "The SVM classifier has a classification accuracy of 63.3% while the RF classifier has a classification accuracy of 53.3%. Therefore, in this case (random_state = 15), the SVM classifier provides better results than the RF classifier. "
      ]
    },
    {
      "cell_type": "code",
      "metadata": {
        "id": "Ap6KCIB9cIuY",
        "colab": {
          "base_uri": "https://localhost:8080/"
        },
        "outputId": "ca4703a7-cbe3-4227-fbdd-75b436ea34d0"
      },
      "source": [
        "# Comparison of SVM and RF\n",
        "num_random_states = 5\n",
        "acc_SVM_list = []\n",
        "acc_RF_list = []\n",
        "for i in range(0, 1000, 200):\n",
        "  # create classifiers\n",
        "  clf_SVM = svm.SVC(kernel = 'rbf', gamma='scale', C=10., random_state = i)\n",
        "  clf_RF = RandomForestClassifier(n_estimators=50, max_depth=10, criterion='entropy', random_state = i)\n",
        "\n",
        "  # training\n",
        "  clf_SVM.fit(hog_train, train_labels)\n",
        "  clf_RF.fit(hog_train, train_labels)\n",
        "\n",
        "  # predict labels of test images\n",
        "  predicted_labels_SVM = clf_SVM.predict(hog_test)\n",
        "  predicted_labels_RF = clf_RF.predict(hog_test)\n",
        "\n",
        "  # calculate classification error\n",
        "  acc_SVM = getAccuracy(predicted_labels_SVM, test_labels, test_image_amount)\n",
        "  acc_SVM_list.append(acc_SVM)\n",
        "  acc_RF = getAccuracy(predicted_labels_RF, test_labels, test_image_amount)\n",
        "  acc_RF_list.append(acc_RF)\n",
        "\n",
        "acc_SVM_set = sum(acc_SVM_list)/num_random_states\n",
        "print(\"Classification Accuracy SVM: \" + str(acc_SVM_set) + \" %\")\n",
        "acc_RF_set = sum(acc_RF_list)/num_random_states\n",
        "print(\"Classification Accuracy RM: \" + str(acc_RF_set) + \" %\")"
      ],
      "execution_count": null,
      "outputs": [
        {
          "output_type": "stream",
          "text": [
            "Classification Accuracy SVM: 63.33333333333333 %\n",
            "Classification Accuracy RM: 46.22222222222222 %\n"
          ],
          "name": "stdout"
        }
      ]
    },
    {
      "cell_type": "markdown",
      "metadata": {
        "id": "JvtuYfAZj5Wk"
      },
      "source": [
        "These results show that the SVM classifier is more robust to the change in random state than the RF classifier."
      ]
    }
  ]
}